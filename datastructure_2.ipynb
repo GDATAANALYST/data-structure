{
  "nbformat": 4,
  "nbformat_minor": 0,
  "metadata": {
    "colab": {
      "provenance": [],
      "toc_visible": true
    },
    "kernelspec": {
      "name": "python3",
      "display_name": "Python 3"
    },
    "language_info": {
      "name": "python"
    }
  },
  "cells": [
    {
      "cell_type": "markdown",
      "source": [
        "### DISCUSS STRING SLICING AND PROVIDE EXAMPLES\n",
        "    STRINGS :\n",
        "    Strings are combination of letters,symbols and numbers enclosed inside quotations:\n",
        "##STRING SLICING :\n",
        "    it is used to know a particular data which is assigned bya user to check whether it is available or not .\n",
        "    for example:\n",
        "        "
      ],
      "metadata": {
        "id": "OBGseuKHRyNS"
      }
    },
    {
      "cell_type": "code",
      "source": [
        "a= \"MS Dhoni the untold story of the legend\"\n",
        "print (a)"
      ],
      "metadata": {
        "colab": {
          "base_uri": "https://localhost:8080/"
        },
        "id": "kREEg5vASCA1",
        "outputId": "5d68d89d-7f09-4289-9f53-053772428d41"
      },
      "execution_count": null,
      "outputs": [
        {
          "output_type": "stream",
          "name": "stdout",
          "text": [
            "MS Dhoni the untold story of the legend\n"
          ]
        }
      ]
    },
    {
      "cell_type": "markdown",
      "source": [
        "if you want first 5 letters of the string that is mentioned above"
      ],
      "metadata": {
        "id": "FNpEr_ChSUPb"
      }
    },
    {
      "cell_type": "code",
      "source": [
        "print (a[0:5])"
      ],
      "metadata": {
        "colab": {
          "base_uri": "https://localhost:8080/"
        },
        "id": "pU3g0UlJSiTH",
        "outputId": "23ad6126-c982-4687-9732-9bebe4a42ffb"
      },
      "execution_count": null,
      "outputs": [
        {
          "output_type": "stream",
          "name": "stdout",
          "text": [
            "MS Dh\n"
          ]
        }
      ]
    },
    {
      "cell_type": "markdown",
      "source": [
        "if you want characters from 6th element to 12th element\n"
      ],
      "metadata": {
        "id": "m0eS7M6ESpWD"
      }
    },
    {
      "cell_type": "code",
      "source": [
        "print (a[6:13])"
      ],
      "metadata": {
        "colab": {
          "base_uri": "https://localhost:8080/"
        },
        "id": "0SJpWZGdS5YC",
        "outputId": "2e97f79b-b183-47eb-c52d-15898111e799"
      },
      "execution_count": null,
      "outputs": [
        {
          "output_type": "stream",
          "name": "stdout",
          "text": [
            "ni the \n"
          ]
        }
      ]
    },
    {
      "cell_type": "markdown",
      "source": [
        "if you want elements from the string in reverse order"
      ],
      "metadata": {
        "id": "tElKGxwuTC9D"
      }
    },
    {
      "cell_type": "code",
      "source": [
        "print (a[-6:])"
      ],
      "metadata": {
        "colab": {
          "base_uri": "https://localhost:8080/"
        },
        "id": "l6pvnWU_TSEH",
        "outputId": "6c3a1f0d-85ae-4a8d-fa7d-6dc5d6240a99"
      },
      "execution_count": null,
      "outputs": [
        {
          "output_type": "stream",
          "name": "stdout",
          "text": [
            "legend\n"
          ]
        }
      ]
    },
    {
      "cell_type": "markdown",
      "source": [
        "to execute a particular string by giving certain gsps in middle:"
      ],
      "metadata": {
        "id": "KG_I-ZUOTe_b"
      }
    },
    {
      "cell_type": "code",
      "source": [
        "print (a[0:20:2])"
      ],
      "metadata": {
        "colab": {
          "base_uri": "https://localhost:8080/"
        },
        "id": "_u8sYuOjT6--",
        "outputId": "3133865f-f678-4c58-97a4-4fcadcc4fce8"
      },
      "execution_count": null,
      "outputs": [
        {
          "output_type": "stream",
          "name": "stdout",
          "text": [
            "M hn h nod\n"
          ]
        }
      ]
    },
    {
      "cell_type": "code",
      "source": [],
      "metadata": {
        "id": "FzEk06aBTdKW"
      },
      "execution_count": null,
      "outputs": []
    },
    {
      "cell_type": "markdown",
      "source": [
        "if you want to reverse the string totally ."
      ],
      "metadata": {
        "id": "5GrUymsHUGrz"
      }
    },
    {
      "cell_type": "code",
      "source": [
        "print (a[::-1])"
      ],
      "metadata": {
        "colab": {
          "base_uri": "https://localhost:8080/"
        },
        "id": "IIrgCXrHUMz6",
        "outputId": "ae744bdd-9309-435a-f98a-44df4465cb3b"
      },
      "execution_count": null,
      "outputs": [
        {
          "output_type": "stream",
          "name": "stdout",
          "text": [
            "dnegel eht fo yrots dlotnu eht inohD SM\n"
          ]
        }
      ]
    },
    {
      "cell_type": "markdown",
      "source": [],
      "metadata": {
        "id": "AaunT6kmUVin"
      }
    },
    {
      "cell_type": "markdown",
      "source": [
        "# EXPLAIN THE KEY FFEATURES OF LISTS IN PYTHON"
      ],
      "metadata": {
        "id": "UbqxRijdUneb"
      }
    },
    {
      "cell_type": "markdown",
      "source": [
        "Lists are used to store a various kind of elements or objects inside a variable to assign when needed in a program.\n",
        "You can access it by giving index number.\n",
        "lists are mutable means it can be changed as per user convience after creation.\n",
        "We use square brackets [] inorder to give any input to program.\n",
        "In list all datatype / elements separated by comma(,).\n",
        "for example:"
      ],
      "metadata": {
        "id": "2hI2VnKDzKz3"
      }
    },
    {
      "cell_type": "markdown",
      "source": [
        "To access the second element from a given input and all elements from given input"
      ],
      "metadata": {
        "id": "nbXlvohF11zs"
      }
    },
    {
      "cell_type": "markdown",
      "source": [
        "lets take a collection of elements in a string"
      ],
      "metadata": {
        "id": "p5P9RU-bGOTy"
      }
    },
    {
      "cell_type": "code",
      "source": [
        "a=[\"spoon\",\"Maggi\",\"chow\",\"bowl\",]\n",
        "print (a)"
      ],
      "metadata": {
        "colab": {
          "base_uri": "https://localhost:8080/"
        },
        "id": "BafevLZ3HMf_",
        "outputId": "82d9d813-f3c8-40a1-8a46-2f74c2e86325"
      },
      "execution_count": null,
      "outputs": [
        {
          "output_type": "stream",
          "name": "stdout",
          "text": [
            "['spoon', 'Maggi', 'chow', 'bowl']\n"
          ]
        }
      ]
    },
    {
      "cell_type": "markdown",
      "source": [
        "To find length of a list"
      ],
      "metadata": {
        "id": "YNZ13wAqHngD"
      }
    },
    {
      "cell_type": "code",
      "source": [
        " print (len(a))"
      ],
      "metadata": {
        "colab": {
          "base_uri": "https://localhost:8080/"
        },
        "id": "ImIOuaBOHrtX",
        "outputId": "17b1a851-4293-4575-f441-5989dda89569"
      },
      "execution_count": null,
      "outputs": [
        {
          "output_type": "stream",
          "name": "stdout",
          "text": [
            "4\n"
          ]
        }
      ]
    },
    {
      "cell_type": "markdown",
      "source": [
        "To count an occurence of a particular element .\n"
      ],
      "metadata": {
        "id": "ZjoIk37OJDjR"
      }
    },
    {
      "cell_type": "code",
      "source": [
        "print (a.count (\"chow\"))"
      ],
      "metadata": {
        "colab": {
          "base_uri": "https://localhost:8080/"
        },
        "id": "3U6iMzwEJK22",
        "outputId": "00a84532-05ad-4ea0-dc07-28ad3ff95681"
      },
      "execution_count": null,
      "outputs": [
        {
          "output_type": "stream",
          "name": "stdout",
          "text": [
            "1\n"
          ]
        }
      ]
    },
    {
      "cell_type": "code",
      "source": [
        "a\n",
        "type(a[1])\n",
        "#so,inorder to get banana's first 4 letter\n",
        "a[1][0:4]"
      ],
      "metadata": {
        "colab": {
          "base_uri": "https://localhost:8080/",
          "height": 36
        },
        "id": "_Z8__AAkeAfm",
        "outputId": "7b7b2c7d-8998-4dd5-8466-0e7af9c62ac7"
      },
      "execution_count": null,
      "outputs": [
        {
          "output_type": "execute_result",
          "data": {
            "text/plain": [
              "'bana'"
            ],
            "application/vnd.google.colaboratory.intrinsic+json": {
              "type": "string"
            }
          },
          "metadata": {},
          "execution_count": 75
        }
      ]
    },
    {
      "cell_type": "markdown",
      "source": [
        "to add an item to the list there are 2 functions that are used insert ()and append();   \n",
        "where insert function is used to insert anything from the given braces that user inputs and the second one append ()is used when a user wants to add a element but this function allows the user to add in end .\n",
        "examples:"
      ],
      "metadata": {
        "id": "OQ8JxWuwJSW3"
      }
    },
    {
      "cell_type": "code",
      "source": [
        "a.insert(3,\"maggi masala\")\n",
        "print (a)\n",
        "a.append (\"chowmein masala\")\n",
        "print (a)"
      ],
      "metadata": {
        "colab": {
          "base_uri": "https://localhost:8080/"
        },
        "id": "k_c1JUFNJW3t",
        "outputId": "864145ad-e1de-4e63-f72c-fa8d8e0043b5"
      },
      "execution_count": null,
      "outputs": [
        {
          "output_type": "stream",
          "name": "stdout",
          "text": [
            "['spoon', 'Maggi', 'chow', 'maggi masala', 'maggi masala', 'bowl']\n",
            "['spoon', 'Maggi', 'chow', 'maggi masala', 'maggi masala', 'bowl', 'chowmein masala']\n"
          ]
        }
      ]
    },
    {
      "cell_type": "markdown",
      "source": [
        "to create a copy of list"
      ],
      "metadata": {
        "id": "IS3WS-TgMFtG"
      }
    },
    {
      "cell_type": "code",
      "source": [
        "b=[\"vita marie \",\"top gold\",\"jim jam\",\"thin arrowroot \"]\n",
        "print (b)"
      ],
      "metadata": {
        "colab": {
          "base_uri": "https://localhost:8080/"
        },
        "id": "KNZOgw5OMI1G",
        "outputId": "c24c182b-8e0a-40b0-d746-0d24a5111fd4"
      },
      "execution_count": null,
      "outputs": [
        {
          "output_type": "stream",
          "name": "stdout",
          "text": [
            "['vita marie ', 'top gold', 'jim jam', 'thin arrowroot ']\n"
          ]
        }
      ]
    },
    {
      "cell_type": "markdown",
      "source": [
        "to see a particular element what is present and to remove from that particular location"
      ],
      "metadata": {
        "id": "-Ij4JL5PMjx0"
      }
    },
    {
      "cell_type": "code",
      "source": [
        "a=b.pop(1)\n",
        "print (a)"
      ],
      "metadata": {
        "colab": {
          "base_uri": "https://localhost:8080/"
        },
        "id": "VG0EFrWwMkjY",
        "outputId": "701bb402-53c1-4f97-dc73-521d607b4574"
      },
      "execution_count": null,
      "outputs": [
        {
          "output_type": "stream",
          "name": "stdout",
          "text": [
            "top gold\n"
          ]
        }
      ]
    },
    {
      "cell_type": "markdown",
      "source": [
        "to create a copy of list"
      ],
      "metadata": {
        "id": "r9M2vfxaMxhx"
      }
    },
    {
      "cell_type": "code",
      "source": [
        "\n",
        "c=b.copy()\n",
        "print (c)"
      ],
      "metadata": {
        "colab": {
          "base_uri": "https://localhost:8080/"
        },
        "id": "XBMOkwLGM01B",
        "outputId": "52aaa996-e507-407e-e13c-b73ed6ab9f03"
      },
      "execution_count": null,
      "outputs": [
        {
          "output_type": "stream",
          "name": "stdout",
          "text": [
            "['vita marie ', 'jim jam', 'thin arrowroot ']\n"
          ]
        }
      ]
    },
    {
      "cell_type": "markdown",
      "source": [
        "to swap the elements 1 with 3"
      ],
      "metadata": {
        "id": "zZB_PoLLXT7F"
      }
    },
    {
      "cell_type": "code",
      "source": [
        "c[1],c[2]=c[2],c[1]\n",
        "print (c)"
      ],
      "metadata": {
        "colab": {
          "base_uri": "https://localhost:8080/"
        },
        "id": "n3b-x0WZXl1U",
        "outputId": "d78993f2-0047-4b0e-ea34-acb3910b348f"
      },
      "execution_count": null,
      "outputs": [
        {
          "output_type": "stream",
          "name": "stdout",
          "text": [
            "['vita marie ', 'thin arrowroot ', 'jim jam']\n"
          ]
        }
      ]
    },
    {
      "cell_type": "markdown",
      "source": [
        "to extend the list"
      ],
      "metadata": {
        "id": "OmVrZ-XNYFIV"
      }
    },
    {
      "cell_type": "code",
      "source": [
        "d=[\"oreo\",\"bournvita\"]\n",
        "c.extend(d)\n",
        "print(c)"
      ],
      "metadata": {
        "colab": {
          "base_uri": "https://localhost:8080/"
        },
        "id": "CI8MyF1LYOiT",
        "outputId": "a6458c6e-6244-4883-bb67-a499416ee96f"
      },
      "execution_count": null,
      "outputs": [
        {
          "output_type": "stream",
          "name": "stdout",
          "text": [
            "['vita marie ', 'thin arrowroot ', 'jim jam', 'oreo', 'bournvita']\n"
          ]
        }
      ]
    },
    {
      "cell_type": "markdown",
      "source": [
        "to sort the list *here this function is used to arrange the given strings in ascending order*"
      ],
      "metadata": {
        "id": "8YgXc0eVYjef"
      }
    },
    {
      "cell_type": "code",
      "source": [
        "c.sort ()\n",
        "print (c)"
      ],
      "metadata": {
        "colab": {
          "base_uri": "https://localhost:8080/"
        },
        "id": "dU020W7sYmnb",
        "outputId": "dfd30886-c3ab-4b45-e8df-3bdfa309b864"
      },
      "execution_count": null,
      "outputs": [
        {
          "output_type": "stream",
          "name": "stdout",
          "text": [
            "['bournvita', 'jim jam', 'oreo', 'thin arrowroot ', 'vita marie ']\n"
          ]
        }
      ]
    },
    {
      "cell_type": "code",
      "source": [
        "#reverse index"
      ],
      "metadata": {
        "id": "zmxrvBCNY5k9"
      },
      "execution_count": null,
      "outputs": []
    },
    {
      "cell_type": "code",
      "source": [
        "a\n",
        "a[-1]\n"
      ],
      "metadata": {
        "colab": {
          "base_uri": "https://localhost:8080/",
          "height": 36
        },
        "id": "Hlxu9IS9Yho6",
        "outputId": "a5544a3e-6717-4eb8-d2b8-f984bd63f2a8"
      },
      "execution_count": null,
      "outputs": [
        {
          "output_type": "execute_result",
          "data": {
            "text/plain": [
              "'orange'"
            ],
            "application/vnd.google.colaboratory.intrinsic+json": {
              "type": "string"
            }
          },
          "metadata": {},
          "execution_count": 43
        }
      ]
    },
    {
      "cell_type": "code",
      "source": [
        "a[-3]"
      ],
      "metadata": {
        "colab": {
          "base_uri": "https://localhost:8080/"
        },
        "id": "dumlPjyeY9aK",
        "outputId": "b6ead11a-cfcc-4bbc-a861-991c7145b965"
      },
      "execution_count": null,
      "outputs": [
        {
          "output_type": "execute_result",
          "data": {
            "text/plain": [
              "1.12"
            ]
          },
          "metadata": {},
          "execution_count": 49
        }
      ]
    },
    {
      "cell_type": "code",
      "source": [
        "#negative indexing\n",
        "a=list(a)\n",
        "a"
      ],
      "metadata": {
        "colab": {
          "base_uri": "https://localhost:8080/"
        },
        "id": "XSdUduLXaWLR",
        "outputId": "6931ded2-1882-4fb3-daf5-e25eb34ced5b"
      },
      "execution_count": null,
      "outputs": [
        {
          "output_type": "execute_result",
          "data": {
            "text/plain": [
              "['apple', 'banana', True, 1.12, (2+3j), 'orange']"
            ]
          },
          "metadata": {},
          "execution_count": 54
        }
      ]
    },
    {
      "cell_type": "code",
      "source": [
        "a[::-1]"
      ],
      "metadata": {
        "colab": {
          "base_uri": "https://localhost:8080/"
        },
        "id": "CR6kDPl3anw6",
        "outputId": "19acd757-72d0-4e55-833c-d3270298ebd5"
      },
      "execution_count": null,
      "outputs": [
        {
          "output_type": "execute_result",
          "data": {
            "text/plain": [
              "['orange', (2+3j), 1.12, True, 'banana', 'apple']"
            ]
          },
          "metadata": {},
          "execution_count": 55
        }
      ]
    },
    {
      "cell_type": "code",
      "source": [
        "a[-1:-5:-3]"
      ],
      "metadata": {
        "colab": {
          "base_uri": "https://localhost:8080/"
        },
        "id": "iGuCp6ztargK",
        "outputId": "eef07c7e-9c43-4604-9924-e9592943e820"
      },
      "execution_count": null,
      "outputs": [
        {
          "output_type": "execute_result",
          "data": {
            "text/plain": [
              "['orange', True]"
            ]
          },
          "metadata": {},
          "execution_count": 60
        }
      ]
    },
    {
      "cell_type": "code",
      "source": [
        "a[-5]"
      ],
      "metadata": {
        "colab": {
          "base_uri": "https://localhost:8080/",
          "height": 36
        },
        "id": "zhr1sKVHbCCi",
        "outputId": "283ae89f-35ef-455b-9734-4d053229ddaa"
      },
      "execution_count": null,
      "outputs": [
        {
          "output_type": "execute_result",
          "data": {
            "text/plain": [
              "'banana'"
            ],
            "application/vnd.google.colaboratory.intrinsic+json": {
              "type": "string"
            }
          },
          "metadata": {},
          "execution_count": 61
        }
      ]
    },
    {
      "cell_type": "markdown",
      "source": [
        "# DESCRIBE HOW TO ACCESS , MODIFY AND DELETE ELEMENTS IN ALIST WITH EXAMPLES"
      ],
      "metadata": {
        "id": "YsFJu2cDaOyB"
      }
    },
    {
      "cell_type": "markdown",
      "source": [
        "In order to access a elemnt from a list .\n",
        "We need to first assign a string cotaining of certain names or characters in a variable string .\n",
        "example"
      ],
      "metadata": {
        "id": "l-rKKwzjakcn"
      }
    },
    {
      "cell_type": "code",
      "source": [
        "access=[\"dabur red\",\"colgate\",\"pepsodent\",\"sensodyne\",\"babool\"]\n",
        "print (access.index('pepsodent'))"
      ],
      "metadata": {
        "colab": {
          "base_uri": "https://localhost:8080/"
        },
        "id": "xZuLUpvMa_53",
        "outputId": "f46fce4b-040e-4367-9e0e-25a95d8500d7"
      },
      "execution_count": null,
      "outputs": [
        {
          "output_type": "stream",
          "name": "stdout",
          "text": [
            "2\n"
          ]
        }
      ]
    },
    {
      "cell_type": "markdown",
      "source": [
        "to add a new value at second position"
      ],
      "metadata": {
        "id": "McfzH6vVbpg7"
      }
    },
    {
      "cell_type": "code",
      "source": [
        "access.insert (1,\"vicco turmeric tooth paste\")\n",
        "print (access)"
      ],
      "metadata": {
        "colab": {
          "base_uri": "https://localhost:8080/"
        },
        "id": "MxPIEA4PbrYi",
        "outputId": "bb261579-e3a0-498b-89de-f47585288595"
      },
      "execution_count": null,
      "outputs": [
        {
          "output_type": "stream",
          "name": "stdout",
          "text": [
            "['dabur red', 'vicco turmeric tooth paste', 'vicco turmeric tooth paste', 'colgate', 'pepsodent', 'sensodyne', 'babool']\n"
          ]
        }
      ]
    },
    {
      "cell_type": "markdown",
      "source": [
        "to clear all the data from the list"
      ],
      "metadata": {
        "id": "FDP5yvUXgwi6"
      }
    },
    {
      "cell_type": "code",
      "source": [
        " access.clear()\n",
        " print (access)"
      ],
      "metadata": {
        "colab": {
          "base_uri": "https://localhost:8080/"
        },
        "id": "zjgdb1Btj9CY",
        "outputId": "09e326fc-8f9c-4092-f9ea-bcca807091a7"
      },
      "execution_count": null,
      "outputs": [
        {
          "output_type": "stream",
          "name": "stdout",
          "text": [
            "[]\n"
          ]
        }
      ]
    },
    {
      "cell_type": "code",
      "source": [],
      "metadata": {
        "colab": {
          "base_uri": "https://localhost:8080/"
        },
        "id": "ryWxz0BsaKFY",
        "outputId": "aaf205bd-024d-483d-d4df-ba138bb75ff9"
      },
      "execution_count": null,
      "outputs": [
        {
          "output_type": "execute_result",
          "data": {
            "text/plain": [
              "('apple', 'banana', True, 1.12, (2+3j), 'orange')"
            ]
          },
          "metadata": {},
          "execution_count": 50
        }
      ]
    },
    {
      "cell_type": "markdown",
      "source": [
        "# COMPARE AND CONTRAST TUPLES AND LIST WITH EXAMPLES"
      ],
      "metadata": {
        "id": "wBsLSSfumjBa"
      }
    },
    {
      "cell_type": "markdown",
      "source": [
        "* Tuples are the collection of ordered and unmutable data whereas as lists are unordered and mutable data .\n",
        "* For tuples no brackets are mandatory but by default here the brackets used is () whereas in lists we use square brackets[].\n",
        "* The value inside a list is separated by coma(,) as well as in lists.\n",
        "* multiple ddatatypes can be written in tuple as well as it is also  allowed in lists.\n",
        "* when tuples once created caanot be changed whereas list is ulterable.\n",
        "* iterations are faster in tuples in compare to lists,lists are time consuming.\n",
        "* Tuples has only two functions i.e. count() and index() ."
      ],
      "metadata": {
        "id": "mDLwHEQ4muhA"
      }
    },
    {
      "cell_type": "markdown",
      "source": [
        "* examples of tuples:"
      ],
      "metadata": {
        "id": "pXBwYgX6pM9w"
      }
    },
    {
      "cell_type": "code",
      "source": [
        "a=\"apple\",\"mango\",1.23\n",
        "print (type(a))"
      ],
      "metadata": {
        "colab": {
          "base_uri": "https://localhost:8080/"
        },
        "id": "dqcUlrcVpJ9e",
        "outputId": "bdd684c8-9af2-4a75-eedc-badda8e2d7dd"
      },
      "execution_count": null,
      "outputs": [
        {
          "output_type": "stream",
          "name": "stdout",
          "text": [
            "<class 'tuple'>\n"
          ]
        }
      ]
    },
    {
      "cell_type": "code",
      "source": [
        "a=\"apple\",\"banana\",True,1.12,2+3j\n",
        "print(type(a))"
      ],
      "metadata": {
        "colab": {
          "base_uri": "https://localhost:8080/"
        },
        "id": "zcOPQ7spHG1V",
        "outputId": "3b563416-d10a-410a-ac25-c06615c9df8d"
      },
      "execution_count": null,
      "outputs": [
        {
          "output_type": "stream",
          "name": "stdout",
          "text": [
            "<class 'tuple'>\n"
          ]
        }
      ]
    },
    {
      "cell_type": "markdown",
      "source": [
        "If you want to print a tuple set each and every item in a different line ."
      ],
      "metadata": {
        "id": "JueobsjwHkxU"
      }
    },
    {
      "cell_type": "code",
      "source": [
        "for i in a:\n",
        "    print(i)"
      ],
      "metadata": {
        "colab": {
          "base_uri": "https://localhost:8080/"
        },
        "id": "bD8cSGYkHafe",
        "outputId": "57ca012b-6658-427f-da85-dc08ad9e0070"
      },
      "execution_count": null,
      "outputs": [
        {
          "output_type": "stream",
          "name": "stdout",
          "text": [
            "apple\n",
            "banana\n",
            "True\n",
            "1.12\n",
            "(2+3j)\n"
          ]
        }
      ]
    },
    {
      "cell_type": "markdown",
      "source": [
        "if you want to convert a tuple to list ."
      ],
      "metadata": {
        "id": "4ji8VvA-IEFv"
      }
    },
    {
      "cell_type": "code",
      "source": [
        "a\n",
        "b=[]\n",
        "for i in a:\n",
        "  b.append(i)\n",
        "print(b)"
      ],
      "metadata": {
        "colab": {
          "base_uri": "https://localhost:8080/"
        },
        "id": "Ufz1n-BuHwe1",
        "outputId": "941c6534-5aee-4872-dc23-4adb6184c545"
      },
      "execution_count": null,
      "outputs": [
        {
          "output_type": "stream",
          "name": "stdout",
          "text": [
            "['apple', 'banana', True, 1.12, (2+3j)]\n"
          ]
        }
      ]
    },
    {
      "cell_type": "code",
      "source": [
        "#to edit a tuple (insert some items in it.)\n",
        "a\n",
        "b=[]\n",
        "for i in a:\n",
        "  b.append(i)\n",
        "b.append(\"orange\")\n",
        "print(b)\n",
        "a=tuple(b)\n",
        "print(a)"
      ],
      "metadata": {
        "colab": {
          "base_uri": "https://localhost:8080/"
        },
        "id": "u09xUMrzIK6m",
        "outputId": "00749b30-03bb-48f3-9796-69716fd6dc96"
      },
      "execution_count": null,
      "outputs": [
        {
          "output_type": "stream",
          "name": "stdout",
          "text": [
            "['apple', 'banana', True, 1.12, (2+3j), 'orange']\n",
            "('apple', 'banana', True, 1.12, (2+3j), 'orange')\n"
          ]
        }
      ]
    },
    {
      "cell_type": "code",
      "source": [
        "##list examples:\n",
        "l1=[\"iphone\",\"samsung\",\"nokia\",\"motorola\"]\n",
        "#suppose here you want to access if samsung is there then continue or else print that item is not existing .\n",
        "for i in l1:\n",
        "  if i ==\"samsung\":\n",
        "    print(i)\n",
        "    continue\n",
        "  else:\n",
        "    print(i)\n",
        "    break\n"
      ],
      "metadata": {
        "colab": {
          "base_uri": "https://localhost:8080/"
        },
        "id": "WsIQ7fmWKtAh",
        "outputId": "8309a954-e9e2-48f2-eedf-9a6febf9afa7"
      },
      "execution_count": null,
      "outputs": [
        {
          "output_type": "stream",
          "name": "stdout",
          "text": [
            "iphone\n"
          ]
        }
      ]
    },
    {
      "cell_type": "code",
      "source": [
        "#to enter a list with combination of strings numbers and float values separate the output with two different list .\n",
        "l=[1,2,3,1,2,46,595,9,5,323,595,\"toronto\",\"angela\",\"daniels\",\"augusta T\"]\n",
        "l1_num=[]\n",
        "l2_str=[]\n",
        "for i in l:\n",
        "  if type(i)==int or type(i)==float:\n",
        "    l1_num.append(i)\n",
        "\n",
        "  else:\n",
        "    l2_str.append(i)\n",
        "print(l1_num)\n",
        "print(l2_str)"
      ],
      "metadata": {
        "colab": {
          "base_uri": "https://localhost:8080/"
        },
        "id": "7kV06IylM9bF",
        "outputId": "3e73c1cf-778b-4642-dab5-c4cdff7769ed"
      },
      "execution_count": null,
      "outputs": [
        {
          "output_type": "stream",
          "name": "stdout",
          "text": [
            "[1, 2, 3, 1, 2, 46, 595, 9, 5, 323, 595]\n",
            "['toronto', 'angela', 'daniels', 'augusta T']\n"
          ]
        }
      ]
    },
    {
      "cell_type": "code",
      "source": [
        "l1=[12,12,12,5,21,4,True,\"dani\",\"kiarra\",3+6j]\n",
        "l1[0]"
      ],
      "metadata": {
        "colab": {
          "base_uri": "https://localhost:8080/"
        },
        "id": "T-gtC9pYXkYb",
        "outputId": "c78b0e13-0e74-4f76-a2ce-1d631e158434"
      },
      "execution_count": null,
      "outputs": [
        {
          "output_type": "execute_result",
          "data": {
            "text/plain": [
              "12"
            ]
          },
          "metadata": {},
          "execution_count": 35
        }
      ]
    },
    {
      "cell_type": "code",
      "source": [
        "l1[5]"
      ],
      "metadata": {
        "colab": {
          "base_uri": "https://localhost:8080/"
        },
        "id": "cOe7BxbmXy-4",
        "outputId": "35ab5b5f-a9db-421c-b560-614d6a62c9a1"
      },
      "execution_count": null,
      "outputs": [
        {
          "output_type": "execute_result",
          "data": {
            "text/plain": [
              "4"
            ]
          },
          "metadata": {},
          "execution_count": 36
        }
      ]
    },
    {
      "cell_type": "code",
      "source": [
        "l1[7]"
      ],
      "metadata": {
        "colab": {
          "base_uri": "https://localhost:8080/",
          "height": 36
        },
        "id": "Jku6nfH6X1pk",
        "outputId": "3ad24739-fbca-48d6-dfb8-0c17df5096d8"
      },
      "execution_count": null,
      "outputs": [
        {
          "output_type": "execute_result",
          "data": {
            "text/plain": [
              "'dani'"
            ],
            "application/vnd.google.colaboratory.intrinsic+json": {
              "type": "string"
            }
          },
          "metadata": {},
          "execution_count": 38
        }
      ]
    },
    {
      "cell_type": "code",
      "source": [
        "l1[0:7]"
      ],
      "metadata": {
        "colab": {
          "base_uri": "https://localhost:8080/"
        },
        "id": "ndL6TO8aX66g",
        "outputId": "bd7f0a69-3b5d-47aa-8bd0-4d95b5c73b75"
      },
      "execution_count": null,
      "outputs": [
        {
          "output_type": "execute_result",
          "data": {
            "text/plain": [
              "[12, 12, 12, 5, 21, 4, True]"
            ]
          },
          "metadata": {},
          "execution_count": 39
        }
      ]
    },
    {
      "cell_type": "code",
      "source": [],
      "metadata": {
        "id": "7yCmn4DZ2ZTx"
      },
      "execution_count": null,
      "outputs": []
    },
    {
      "cell_type": "markdown",
      "source": [
        "# DESCRIBE THE KEY FEATURES OF SETS AND PROVIDE EXAMPLES OF THEIR USE."
      ],
      "metadata": {
        "id": "MwwuhM0NUIBW"
      }
    },
    {
      "cell_type": "markdown",
      "source": [
        "* Sets are unordered.\n",
        "* Set elements are unique. Duplicate elements are not allowed.\n",
        "* A set itself may be modified, but the elements contained in the set  \n",
        "  must be of an immutable type.\n",
        "* sets are usually get denoted by {}.\n",
        "  if you denote it by giving values inside it then it will give output as it is set .\n",
        "  But, if you do not give any values inside it then it will return you as an it is a dictionary because python does not understands that it is set or dictionary."
      ],
      "metadata": {
        "id": "P7citHxvUWfY"
      }
    },
    {
      "cell_type": "markdown",
      "source": [
        "like for example:\n"
      ],
      "metadata": {
        "id": "x5OSVYmjwq9a"
      }
    },
    {
      "cell_type": "code",
      "source": [
        "s1={}\n",
        "type (s1)"
      ],
      "metadata": {
        "id": "NdOtDSXkZUS2",
        "colab": {
          "base_uri": "https://localhost:8080/"
        },
        "outputId": "54322822-0eda-4a4e-8494-5ef2052595ec"
      },
      "execution_count": null,
      "outputs": [
        {
          "output_type": "execute_result",
          "data": {
            "text/plain": [
              "dict"
            ]
          },
          "metadata": {},
          "execution_count": 2
        }
      ]
    },
    {
      "cell_type": "code",
      "source": [
        "s1={1,2,3,5,45,6}\n",
        "type (s1)"
      ],
      "metadata": {
        "colab": {
          "base_uri": "https://localhost:8080/"
        },
        "id": "EVJkyq5O2u8r",
        "outputId": "61fd0637-5743-4234-c771-a7b40cefdefd"
      },
      "execution_count": null,
      "outputs": [
        {
          "output_type": "execute_result",
          "data": {
            "text/plain": [
              "set"
            ]
          },
          "metadata": {},
          "execution_count": 3
        }
      ]
    },
    {
      "cell_type": "code",
      "source": [
        "s3={1,2,3,4,5,6,[23,12,5,4,6]}\n",
        "s3"
      ],
      "metadata": {
        "colab": {
          "base_uri": "https://localhost:8080/",
          "height": 158
        },
        "id": "NiiznGck3EBM",
        "outputId": "071ff8e4-2114-4cb8-e838-4e626cd3ec97"
      },
      "execution_count": null,
      "outputs": [
        {
          "output_type": "error",
          "ename": "TypeError",
          "evalue": "unhashable type: 'list'",
          "traceback": [
            "\u001b[0;31m---------------------------------------------------------------------------\u001b[0m",
            "\u001b[0;31mTypeError\u001b[0m                                 Traceback (most recent call last)",
            "\u001b[0;32m<ipython-input-4-d35f1b8779b2>\u001b[0m in \u001b[0;36m<cell line: 1>\u001b[0;34m()\u001b[0m\n\u001b[0;32m----> 1\u001b[0;31m \u001b[0ms3\u001b[0m\u001b[0;34m=\u001b[0m\u001b[0;34m{\u001b[0m\u001b[0;36m1\u001b[0m\u001b[0;34m,\u001b[0m\u001b[0;36m2\u001b[0m\u001b[0;34m,\u001b[0m\u001b[0;36m3\u001b[0m\u001b[0;34m,\u001b[0m\u001b[0;36m4\u001b[0m\u001b[0;34m,\u001b[0m\u001b[0;36m5\u001b[0m\u001b[0;34m,\u001b[0m\u001b[0;36m6\u001b[0m\u001b[0;34m,\u001b[0m\u001b[0;34m[\u001b[0m\u001b[0;36m23\u001b[0m\u001b[0;34m,\u001b[0m\u001b[0;36m12\u001b[0m\u001b[0;34m,\u001b[0m\u001b[0;36m5\u001b[0m\u001b[0;34m,\u001b[0m\u001b[0;36m4\u001b[0m\u001b[0;34m,\u001b[0m\u001b[0;36m6\u001b[0m\u001b[0;34m]\u001b[0m\u001b[0;34m}\u001b[0m\u001b[0;34m\u001b[0m\u001b[0;34m\u001b[0m\u001b[0m\n\u001b[0m\u001b[1;32m      2\u001b[0m \u001b[0ms3\u001b[0m\u001b[0;34m\u001b[0m\u001b[0;34m\u001b[0m\u001b[0m\n",
            "\u001b[0;31mTypeError\u001b[0m: unhashable type: 'list'"
          ]
        }
      ]
    },
    {
      "cell_type": "code",
      "source": [
        "# here, it is showing like this because set is immutable data  it cannot store the data which is mutable ;it can only stores the data which is mutable .\n",
        "# you can easily sstiore a tuple inside it ."
      ],
      "metadata": {
        "id": "oFDdE7Rt3Rhr"
      },
      "execution_count": null,
      "outputs": []
    },
    {
      "cell_type": "code",
      "source": [
        "# example using tuple :\n",
        "s4={1,2,3,5,4,23+6j,(12,65,6,323+9j)}\n",
        "s4"
      ],
      "metadata": {
        "colab": {
          "base_uri": "https://localhost:8080/"
        },
        "id": "BE2ndOrW3tUG",
        "outputId": "e7980049-14b9-4bc8-e023-cf565aba007f"
      },
      "execution_count": null,
      "outputs": [
        {
          "output_type": "execute_result",
          "data": {
            "text/plain": [
              "{(12, 65, 6, (323+9j)), (23+6j), 1, 2, 3, 4, 5}"
            ]
          },
          "metadata": {},
          "execution_count": 6
        }
      ]
    },
    {
      "cell_type": "code",
      "source": [
        "# why set is used ?\n",
        "#so, lets create a set using various repetitive element.\n",
        "s5={1,2,3,5,4,56,2211,3,5,4,2,21,2,3,6,5,4,0,3,65,2,2,58,5,5,23,5,4,2}\n",
        "s5"
      ],
      "metadata": {
        "colab": {
          "base_uri": "https://localhost:8080/"
        },
        "id": "OfVCRx8x3_tb",
        "outputId": "ce228df2-4268-4124-9184-4c9c55b977a5"
      },
      "execution_count": null,
      "outputs": [
        {
          "output_type": "execute_result",
          "data": {
            "text/plain": [
              "{0, 1, 2, 3, 4, 5, 6, 21, 23, 56, 58, 65, 2211}"
            ]
          },
          "metadata": {},
          "execution_count": 7
        }
      ]
    },
    {
      "cell_type": "markdown",
      "source": [
        "set will give only unique data.\n",
        "here , the sets use case is to get wherever the messy data or anything is given as a input in set , then it will give/produce only the unique one .\n"
      ],
      "metadata": {
        "id": "Ejxb7PCO4i-e"
      }
    },
    {
      "cell_type": "code",
      "source": [
        "# for exmaple:\n",
        "s6={1,25,3,154,62,\"raja\",\"Raja\"}\n",
        "s6"
      ],
      "metadata": {
        "colab": {
          "base_uri": "https://localhost:8080/"
        },
        "id": "JipY2xvS4h9N",
        "outputId": "265ee8d8-80e0-4a08-fcf3-fe362baca5ca"
      },
      "execution_count": null,
      "outputs": [
        {
          "output_type": "execute_result",
          "data": {
            "text/plain": [
              "{1, 154, 25, 3, 62, 'Raja', 'raja'}"
            ]
          },
          "metadata": {},
          "execution_count": 8
        }
      ]
    },
    {
      "cell_type": "markdown",
      "source": [
        "here, it is done so because the pyh=thon is a case sensitive language."
      ],
      "metadata": {
        "id": "oT0swAdt5Y_N"
      }
    },
    {
      "cell_type": "code",
      "source": [
        "type(s6)"
      ],
      "metadata": {
        "colab": {
          "base_uri": "https://localhost:8080/"
        },
        "id": "nDVEu1Fh5V1b",
        "outputId": "727ae664-1f24-499f-c5f6-69e766a13e61"
      },
      "execution_count": null,
      "outputs": [
        {
          "output_type": "execute_result",
          "data": {
            "text/plain": [
              "set"
            ]
          },
          "metadata": {},
          "execution_count": 9
        }
      ]
    },
    {
      "cell_type": "code",
      "source": [
        "s6.add(25)\n",
        "s6\n"
      ],
      "metadata": {
        "colab": {
          "base_uri": "https://localhost:8080/"
        },
        "id": "z5UX3B-36mDT",
        "outputId": "c1f7bd34-8e20-4da9-f512-cee4b20e4a9a"
      },
      "execution_count": null,
      "outputs": [
        {
          "output_type": "execute_result",
          "data": {
            "text/plain": [
              "{1, 154, 25, 3, 62, 'Raja', 'raja'}"
            ]
          },
          "metadata": {},
          "execution_count": 11
        }
      ]
    },
    {
      "cell_type": "code",
      "source": [
        "s6.remove(25)\n",
        "s6"
      ],
      "metadata": {
        "colab": {
          "base_uri": "https://localhost:8080/"
        },
        "id": "YiOcGgKR6rg_",
        "outputId": "a6fc4494-df6e-4e6f-be8a-d58ee0b8ec0f"
      },
      "execution_count": null,
      "outputs": [
        {
          "output_type": "execute_result",
          "data": {
            "text/plain": [
              "{1, 154, 3, 62, 'Raja', 'raja'}"
            ]
          },
          "metadata": {},
          "execution_count": 12
        }
      ]
    },
    {
      "cell_type": "code",
      "source": [
        "# here , in sets no indexing is provided because it is the collection of unordered data\n",
        "# when there is no order then, how indexing is possible on it .here , only one works that is hashing ."
      ],
      "metadata": {
        "id": "6pUfy5tO6z9Y"
      },
      "execution_count": null,
      "outputs": []
    },
    {
      "cell_type": "code",
      "source": [
        "#for example:\n",
        "s6(1)"
      ],
      "metadata": {
        "colab": {
          "base_uri": "https://localhost:8080/",
          "height": 158
        },
        "id": "H58yfJ2z7Tgy",
        "outputId": "0ee3b204-a00b-48bb-f992-eae6cbe4153d"
      },
      "execution_count": null,
      "outputs": [
        {
          "output_type": "error",
          "ename": "TypeError",
          "evalue": "'set' object is not callable",
          "traceback": [
            "\u001b[0;31m---------------------------------------------------------------------------\u001b[0m",
            "\u001b[0;31mTypeError\u001b[0m                                 Traceback (most recent call last)",
            "\u001b[0;32m<ipython-input-13-34ed595163bc>\u001b[0m in \u001b[0;36m<cell line: 2>\u001b[0;34m()\u001b[0m\n\u001b[1;32m      1\u001b[0m \u001b[0;31m#for example:\u001b[0m\u001b[0;34m\u001b[0m\u001b[0;34m\u001b[0m\u001b[0m\n\u001b[0;32m----> 2\u001b[0;31m \u001b[0ms6\u001b[0m\u001b[0;34m(\u001b[0m\u001b[0;36m1\u001b[0m\u001b[0;34m)\u001b[0m\u001b[0;34m\u001b[0m\u001b[0;34m\u001b[0m\u001b[0m\n\u001b[0m",
            "\u001b[0;31mTypeError\u001b[0m: 'set' object is not callable"
          ]
        }
      ]
    },
    {
      "cell_type": "markdown",
      "source": [
        "see error has occured"
      ],
      "metadata": {
        "id": "Xq1ejwCQ7eQ6"
      }
    },
    {
      "cell_type": "markdown",
      "source": [
        "# DISCUSS THE USE CASES OF TUPLES AND SETS IN PYTHON PROGRAMMING.\n",
        "\n"
      ],
      "metadata": {
        "id": "yGZAs7nG7yO7"
      }
    },
    {
      "cell_type": "code",
      "source": [
        "# see as we discussed earlier about what are tuples and\n",
        "# sets and their respective use cases .\n",
        "# so, in this section ii just want to give a certain overview of it that .\n",
        "# tuples are the immutable datatype(means if they are once executed means they will not take any of the objects or values inside it and you can't even edit them  )\n",
        "# tuples allso do have functions in it. but they only have 2 functions inside it , they are count() and inside ()\n",
        "# they are mainly used in making or keeping the store of passwords ,unique keys , tc.\n",
        "# but, if you see in sets it is collection of unordered data .\n",
        "# it can also store any type of data like other data types but here the only drawback is like tuple you cannot edit it .\n",
        "# it does not allows tyou to keep the list type of data inside it.(syntax error:unhashable data .)"
      ],
      "metadata": {
        "id": "EmcawWGx77OP"
      },
      "execution_count": null,
      "outputs": []
    },
    {
      "cell_type": "code",
      "source": [],
      "metadata": {
        "id": "gDJMmEhz7hZU"
      },
      "execution_count": null,
      "outputs": []
    },
    {
      "cell_type": "markdown",
      "source": [
        "# DESCRIBE HOW TO ADD,MODIFY AND DELETE ITEMS IN A DICTIONARY WITH EXAMPLES."
      ],
      "metadata": {
        "id": "SpujbQaD-hmG"
      }
    },
    {
      "cell_type": "markdown",
      "source": [
        "* BASIC RULES OF DICTIONARIES.\n",
        "* dictionaries are denoted by {}\n",
        "* dictionaries keys should me unique .\n",
        "* it is mutable."
      ],
      "metadata": {
        "id": "6DqUDjdOCtKW"
      }
    },
    {
      "cell_type": "code",
      "source": [],
      "metadata": {
        "id": "zh2HdcS3Csj4"
      },
      "execution_count": null,
      "outputs": []
    },
    {
      "cell_type": "code",
      "source": [
        "d={}\n",
        "type(d)"
      ],
      "metadata": {
        "colab": {
          "base_uri": "https://localhost:8080/"
        },
        "id": "oKJF-DTd-vHG",
        "outputId": "c15ada7a-ca2c-4f91-ca53-5e93b0b288b3"
      },
      "execution_count": null,
      "outputs": [
        {
          "output_type": "execute_result",
          "data": {
            "text/plain": [
              "dict"
            ]
          },
          "metadata": {},
          "execution_count": 15
        }
      ]
    },
    {
      "cell_type": "code",
      "source": [
        "d1={'key':'raja'}"
      ],
      "metadata": {
        "id": "wkDMlGLbDCJG"
      },
      "execution_count": null,
      "outputs": []
    },
    {
      "cell_type": "code",
      "source": [
        "d2={'name':'praveen','email':'gprkmr@gmail.com','phoone':917748922}\n",
        "d2"
      ],
      "metadata": {
        "colab": {
          "base_uri": "https://localhost:8080/"
        },
        "id": "ZwoiqztZDX4T",
        "outputId": "7dc01f20-6ce8-4088-abc1-966472fcbf9a"
      },
      "execution_count": null,
      "outputs": [
        {
          "output_type": "execute_result",
          "data": {
            "text/plain": [
              "{'name': 'praveen', 'email': 'gprkmr@gmail.com', 'phoone': 917748922}"
            ]
          },
          "metadata": {},
          "execution_count": 16
        }
      ]
    },
    {
      "cell_type": "code",
      "source": [
        "#this function is used to delete an item from last.\n",
        "d2.popitem()"
      ],
      "metadata": {
        "colab": {
          "base_uri": "https://localhost:8080/"
        },
        "id": "34FSG7txD7FH",
        "outputId": "9bebc790-5a23-4e6d-921e-022ccb4689ff"
      },
      "execution_count": null,
      "outputs": [
        {
          "output_type": "execute_result",
          "data": {
            "text/plain": [
              "('phoone', 917748922)"
            ]
          },
          "metadata": {},
          "execution_count": 20
        }
      ]
    },
    {
      "cell_type": "code",
      "source": [
        "#this function is used to modify a given dictionary if ther is any mistake.\n",
        "d2.update({'name':'raja'})\n",
        "d2"
      ],
      "metadata": {
        "colab": {
          "base_uri": "https://localhost:8080/"
        },
        "id": "r58R8CkXEThm",
        "outputId": "5e605394-6c6b-4916-f1ec-61ce74173004"
      },
      "execution_count": null,
      "outputs": [
        {
          "output_type": "execute_result",
          "data": {
            "text/plain": [
              "{'name': 'raja', 'email': 'gprkmr@gmail.com'}"
            ]
          },
          "metadata": {},
          "execution_count": 23
        }
      ]
    },
    {
      "cell_type": "code",
      "source": [
        "#to add anything inside a dictionary.\n",
        "d2[\"color\"]=\"red\"\n",
        "d2"
      ],
      "metadata": {
        "colab": {
          "base_uri": "https://localhost:8080/"
        },
        "id": "w70YLWgzE7cj",
        "outputId": "dd51c721-ccc7-473a-b35d-2f81b4c2583c"
      },
      "execution_count": null,
      "outputs": [
        {
          "output_type": "execute_result",
          "data": {
            "text/plain": [
              "{'name': 'raja', 'email': 'gprkmr@gmail.com', 'color': 'red'}"
            ]
          },
          "metadata": {},
          "execution_count": 25
        }
      ]
    },
    {
      "cell_type": "markdown",
      "source": [
        "# DISCUSS THE IMPORTANCE OF DICTIONARY KEYS BEING IMMUTABLE AND PROVIDE EXAMPLES\n"
      ],
      "metadata": {
        "id": "bvNe6W-AFf9O"
      }
    },
    {
      "cell_type": "code",
      "source": [],
      "metadata": {
        "id": "PmCXXUFbQWhG"
      },
      "execution_count": null,
      "outputs": []
    },
    {
      "cell_type": "code",
      "source": [
        "# see in dictionary you probably do keep values with particular keys over here to access.\n",
        "# dictionaries are mainly used to keep them in aprecision manner that when you want to access it you can simply go and check for function that it is present there or not . if it is there then, it will directly shows the assigned value that is present iin that particular key.\n",
        "# it is used to find the large data but we shold have been kept them in key-value manner inorder to access.\n"
      ],
      "metadata": {
        "id": "NnVXPkLqGSuZ"
      },
      "execution_count": null,
      "outputs": []
    },
    {
      "cell_type": "markdown",
      "source": [
        "for example:"
      ],
      "metadata": {
        "id": "BzLgULZPQ8Z6"
      }
    },
    {
      "cell_type": "code",
      "source": [
        "dict={'noodles':['maggi','yippee','topramen'],'atta':['parle-g atta ','aashirvaad atta'],'paste':['dabur red ','colgate']}"
      ],
      "metadata": {
        "id": "t1TLQmI2FExq"
      },
      "execution_count": null,
      "outputs": []
    },
    {
      "cell_type": "code",
      "source": [
        "#if you want to know what are the keys that are available in that particular dictionary.\n",
        "dict.keys()"
      ],
      "metadata": {
        "colab": {
          "base_uri": "https://localhost:8080/"
        },
        "id": "QmnNeCU9Rt4I",
        "outputId": "9ac8f859-771d-41a5-b624-7c0a4b169354"
      },
      "execution_count": null,
      "outputs": [
        {
          "output_type": "execute_result",
          "data": {
            "text/plain": [
              "dict_keys(['noodles', 'atta', 'paste'])"
            ]
          },
          "metadata": {},
          "execution_count": 30
        }
      ]
    },
    {
      "cell_type": "code",
      "source": [
        "# if you want to know that what are present inside that particuar dictionary with that key value pair.\n",
        "dict.items()"
      ],
      "metadata": {
        "colab": {
          "base_uri": "https://localhost:8080/"
        },
        "id": "CNj27MmqSAgl",
        "outputId": "121d8daa-a9c1-499a-d4b0-457cae37403b"
      },
      "execution_count": null,
      "outputs": [
        {
          "output_type": "execute_result",
          "data": {
            "text/plain": [
              "dict_items([('noodles', ['maggi', 'yippee', 'topramen']), ('atta', ['parle-g atta ', 'aashirvaad atta']), ('paste', ['dabur red ', 'colgate'])])"
            ]
          },
          "metadata": {},
          "execution_count": 31
        }
      ]
    },
    {
      "cell_type": "code",
      "source": [
        "# if you want to see that what particularly present in that dictionary on a particular key.\n",
        "dict.get('paste')"
      ],
      "metadata": {
        "colab": {
          "base_uri": "https://localhost:8080/"
        },
        "id": "TRfkTD_8SVSw",
        "outputId": "895ae100-449f-4130-9f98-0a8c8245cd3b"
      },
      "execution_count": null,
      "outputs": [
        {
          "output_type": "execute_result",
          "data": {
            "text/plain": [
              "['dabur red ', 'colgate']"
            ]
          },
          "metadata": {},
          "execution_count": 32
        }
      ]
    },
    {
      "cell_type": "code",
      "source": [
        "\n",
        "#in order to clear a particular dictionary with key-value pairs\n",
        "dict.clear()\n",
        "dict"
      ],
      "metadata": {
        "colab": {
          "base_uri": "https://localhost:8080/"
        },
        "id": "hUOkBUvjSpQo",
        "outputId": "62ebf8cd-0c04-4041-b9db-468dca612579"
      },
      "execution_count": null,
      "outputs": [
        {
          "output_type": "execute_result",
          "data": {
            "text/plain": [
              "{}"
            ]
          },
          "metadata": {},
          "execution_count": 34
        }
      ]
    }
  ]
}